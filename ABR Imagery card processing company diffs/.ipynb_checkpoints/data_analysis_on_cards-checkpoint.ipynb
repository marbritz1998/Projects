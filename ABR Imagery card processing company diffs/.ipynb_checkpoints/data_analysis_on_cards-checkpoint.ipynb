{
 "cells": [
  {
   "cell_type": "markdown",
   "id": "6b21da16-ae13-4751-a5be-9b2e8e5dc34e",
   "metadata": {},
   "source": [
    "# ABR Imagery Card Processing Analysis"
   ]
  },
  {
   "cell_type": "markdown",
   "id": "7d8b5774-06a4-4228-995a-aa1b2bf9407b",
   "metadata": {},
   "source": [
    "## ABR Imagery recently switched their card processing company. The old card company took 3.4% of the transaction amount. The new card company takes 2% of the transaction amount with a \\\\$99 annual fee and a \\\\$20 / month fee. The goal of this anlaysis is to determine which card company is cheaper. The data for orders made in 2022 will be used to determine this. A file for this was made in Traverse from AR Detail History View and saved to an excel file titles \"AR Detail History View.Xls\"."
   ]
  },
  {
   "cell_type": "code",
   "execution_count": 1,
   "id": "e716ef92-d6c4-4142-89e0-19e1dfd87026",
   "metadata": {},
   "outputs": [],
   "source": [
    "#importing packages\n",
    "import pandas as pd\n",
    "import numpy as np"
   ]
  },
  {
   "cell_type": "code",
   "execution_count": 2,
   "id": "34b3e4c0-f68c-4d8a-9a47-f45e1c4ba6f6",
   "metadata": {},
   "outputs": [],
   "source": [
    "#opening file\n",
    "ar_history_2022 = pd.read_excel(\"AR Detail History View.Xls\")"
   ]
  },
  {
   "cell_type": "code",
   "execution_count": 3,
   "id": "306672ea-72ba-45e7-a12c-84c4206554f0",
   "metadata": {},
   "outputs": [
    {
     "data": {
      "text/html": [
       "<div>\n",
       "<style scoped>\n",
       "    .dataframe tbody tr th:only-of-type {\n",
       "        vertical-align: middle;\n",
       "    }\n",
       "\n",
       "    .dataframe tbody tr th {\n",
       "        vertical-align: top;\n",
       "    }\n",
       "\n",
       "    .dataframe thead th {\n",
       "        text-align: right;\n",
       "    }\n",
       "</style>\n",
       "<table border=\"1\" class=\"dataframe\">\n",
       "  <thead>\n",
       "    <tr style=\"text-align: right;\">\n",
       "      <th></th>\n",
       "      <th>Transaction ID</th>\n",
       "      <th>Transaction Date</th>\n",
       "      <th>Transaction Type</th>\n",
       "      <th>PmtMethodId</th>\n",
       "      <th>Amount</th>\n",
       "    </tr>\n",
       "  </thead>\n",
       "  <tbody>\n",
       "    <tr>\n",
       "      <th>0</th>\n",
       "      <td>207333</td>\n",
       "      <td>1/1/2022</td>\n",
       "      <td>Payment</td>\n",
       "      <td>PAYPAL</td>\n",
       "      <td>172.03</td>\n",
       "    </tr>\n",
       "    <tr>\n",
       "      <th>1</th>\n",
       "      <td>207334</td>\n",
       "      <td>1/1/2022</td>\n",
       "      <td>Payment</td>\n",
       "      <td>PAYPAL</td>\n",
       "      <td>1032.26</td>\n",
       "    </tr>\n",
       "    <tr>\n",
       "      <th>2</th>\n",
       "      <td>207337</td>\n",
       "      <td>1/2/2022</td>\n",
       "      <td>Payment</td>\n",
       "      <td>PAYPAL</td>\n",
       "      <td>2979.44</td>\n",
       "    </tr>\n",
       "    <tr>\n",
       "      <th>3</th>\n",
       "      <td>207339</td>\n",
       "      <td>1/2/2022</td>\n",
       "      <td>Payment</td>\n",
       "      <td>PAYPAL</td>\n",
       "      <td>114.12</td>\n",
       "    </tr>\n",
       "    <tr>\n",
       "      <th>4</th>\n",
       "      <td>207341</td>\n",
       "      <td>1/3/2022</td>\n",
       "      <td>Payment</td>\n",
       "      <td>VISA</td>\n",
       "      <td>1049.43</td>\n",
       "    </tr>\n",
       "  </tbody>\n",
       "</table>\n",
       "</div>"
      ],
      "text/plain": [
       "   Transaction ID Transaction Date Transaction Type PmtMethodId   Amount\n",
       "0          207333         1/1/2022          Payment      PAYPAL   172.03\n",
       "1          207334         1/1/2022          Payment      PAYPAL  1032.26\n",
       "2          207337         1/2/2022          Payment      PAYPAL  2979.44\n",
       "3          207339         1/2/2022          Payment      PAYPAL   114.12\n",
       "4          207341         1/3/2022          Payment        VISA  1049.43"
      ]
     },
     "execution_count": 3,
     "metadata": {},
     "output_type": "execute_result"
    }
   ],
   "source": [
    "#quick glance\n",
    "ar_history_2022.head()"
   ]
  },
  {
   "cell_type": "markdown",
   "id": "6d1c484b-ceb8-4888-a3b7-53a48a5b95e9",
   "metadata": {},
   "source": [
    "### **Wanting orders that were paid with just card. so going to look at the unique payment methods in the column \"PmtMethodIds\" and determine which ones are cards. From there, I will subset the dataframe to only contain data with cards**"
   ]
  },
  {
   "cell_type": "code",
   "execution_count": 4,
   "id": "2cb450e0-75c4-46dc-baa3-288d4c43ca0c",
   "metadata": {},
   "outputs": [
    {
     "data": {
      "text/plain": [
       "['PAYPAL',\n",
       " 'VISA',\n",
       " 'MASTER CAR',\n",
       " 'CHECK',\n",
       " 'AM EX',\n",
       " 'CASH',\n",
       " 'DISCOVER',\n",
       " 'checktrade',\n",
       " 'WIRE',\n",
       " nan,\n",
       " 'bitpay']"
      ]
     },
     "execution_count": 4,
     "metadata": {},
     "output_type": "execute_result"
    }
   ],
   "source": [
    "#looking at unique Payment Methods\n",
    "list(ar_history_2022[\"PmtMethodId\"].unique())"
   ]
  },
  {
   "cell_type": "markdown",
   "id": "405612c8-e420-4938-88fe-588d90207ee2",
   "metadata": {},
   "source": [
    "### **So orders paid with a card are going to be Visa, Master Car, AM EX, Discover. Those are all debit/credit card company names. the others are different forms of payment.**"
   ]
  },
  {
   "cell_type": "code",
   "execution_count": 5,
   "id": "ccfd5248-3e14-4202-9ce2-1b1539af0f18",
   "metadata": {},
   "outputs": [
    {
     "data": {
      "text/html": [
       "<div>\n",
       "<style scoped>\n",
       "    .dataframe tbody tr th:only-of-type {\n",
       "        vertical-align: middle;\n",
       "    }\n",
       "\n",
       "    .dataframe tbody tr th {\n",
       "        vertical-align: top;\n",
       "    }\n",
       "\n",
       "    .dataframe thead th {\n",
       "        text-align: right;\n",
       "    }\n",
       "</style>\n",
       "<table border=\"1\" class=\"dataframe\">\n",
       "  <thead>\n",
       "    <tr style=\"text-align: right;\">\n",
       "      <th></th>\n",
       "      <th>Transaction ID</th>\n",
       "      <th>Transaction Date</th>\n",
       "      <th>Transaction Type</th>\n",
       "      <th>PmtMethodId</th>\n",
       "      <th>Amount</th>\n",
       "    </tr>\n",
       "  </thead>\n",
       "  <tbody>\n",
       "    <tr>\n",
       "      <th>4</th>\n",
       "      <td>207341</td>\n",
       "      <td>1/3/2022</td>\n",
       "      <td>Payment</td>\n",
       "      <td>VISA</td>\n",
       "      <td>1049.43</td>\n",
       "    </tr>\n",
       "    <tr>\n",
       "      <th>5</th>\n",
       "      <td>207342</td>\n",
       "      <td>1/3/2022</td>\n",
       "      <td>Payment</td>\n",
       "      <td>VISA</td>\n",
       "      <td>450.57</td>\n",
       "    </tr>\n",
       "    <tr>\n",
       "      <th>6</th>\n",
       "      <td>207346</td>\n",
       "      <td>1/3/2022</td>\n",
       "      <td>Payment</td>\n",
       "      <td>MASTER CAR</td>\n",
       "      <td>45.00</td>\n",
       "    </tr>\n",
       "    <tr>\n",
       "      <th>8</th>\n",
       "      <td>207345</td>\n",
       "      <td>1/3/2022</td>\n",
       "      <td>Payment</td>\n",
       "      <td>VISA</td>\n",
       "      <td>184.95</td>\n",
       "    </tr>\n",
       "    <tr>\n",
       "      <th>9</th>\n",
       "      <td>207319</td>\n",
       "      <td>1/3/2022</td>\n",
       "      <td>Payment</td>\n",
       "      <td>MASTER CAR</td>\n",
       "      <td>60.03</td>\n",
       "    </tr>\n",
       "  </tbody>\n",
       "</table>\n",
       "</div>"
      ],
      "text/plain": [
       "   Transaction ID Transaction Date Transaction Type PmtMethodId   Amount\n",
       "4          207341         1/3/2022          Payment        VISA  1049.43\n",
       "5          207342         1/3/2022          Payment        VISA   450.57\n",
       "6          207346         1/3/2022          Payment  MASTER CAR    45.00\n",
       "8          207345         1/3/2022          Payment        VISA   184.95\n",
       "9          207319         1/3/2022          Payment  MASTER CAR    60.03"
      ]
     },
     "execution_count": 5,
     "metadata": {},
     "output_type": "execute_result"
    }
   ],
   "source": [
    "#constraining data to just card orders\n",
    "ar_history_2022_card = ar_history_2022[ar_history_2022[\"PmtMethodId\"].isin([\"VISA\", \"MASTER CAR\", \"AM EX\", \"DISCOVER\"])]\n",
    "\n",
    "#viewing output\n",
    "ar_history_2022_card.head()"
   ]
  },
  {
   "cell_type": "markdown",
   "id": "86ff8786-649d-4239-9ebd-7fe8d2aa4f94",
   "metadata": {},
   "source": [
    "### **The old card company had a processing fee of 3.4% on all transactions. The new card company has a processing fee of 2%. I will calculate these for the amounts and add them as columns to the data**"
   ]
  },
  {
   "cell_type": "code",
   "execution_count": 6,
   "id": "e2f87041-f70f-42fb-af33-b7de89523930",
   "metadata": {},
   "outputs": [],
   "source": [
    "#settingwithcopywarning is being triggered, it is not valid in this circumstance since the amounts I am wanting to change are being applied to the original dataframe, not to a copy\n",
    "pd.options.mode.chained_assignment = None\n",
    "\n",
    "# adding new column for the old card company processessing fee of 3.4%\n",
    "ar_history_2022_card[\"Old Processing Fee\"] = round(ar_history_2022_card.loc[:,\"Amount\"] * 0.034, 2)\n",
    "\n",
    "# adding new colum for the new card company processing fee of 2%\n",
    "ar_history_2022_card[\"New Processing Fee\"] = round(ar_history_2022_card.loc[:,\"Amount\"] * 0.02, 2)"
   ]
  },
  {
   "cell_type": "code",
   "execution_count": 7,
   "id": "79b5f39a-bbe0-46b7-b7fd-03c672a444f2",
   "metadata": {},
   "outputs": [
    {
     "data": {
      "text/html": [
       "<div>\n",
       "<style scoped>\n",
       "    .dataframe tbody tr th:only-of-type {\n",
       "        vertical-align: middle;\n",
       "    }\n",
       "\n",
       "    .dataframe tbody tr th {\n",
       "        vertical-align: top;\n",
       "    }\n",
       "\n",
       "    .dataframe thead th {\n",
       "        text-align: right;\n",
       "    }\n",
       "</style>\n",
       "<table border=\"1\" class=\"dataframe\">\n",
       "  <thead>\n",
       "    <tr style=\"text-align: right;\">\n",
       "      <th></th>\n",
       "      <th>Transaction ID</th>\n",
       "      <th>Transaction Date</th>\n",
       "      <th>Transaction Type</th>\n",
       "      <th>PmtMethodId</th>\n",
       "      <th>Amount</th>\n",
       "      <th>Old Processing Fee</th>\n",
       "      <th>New Processing Fee</th>\n",
       "    </tr>\n",
       "  </thead>\n",
       "  <tbody>\n",
       "    <tr>\n",
       "      <th>4</th>\n",
       "      <td>207341</td>\n",
       "      <td>1/3/2022</td>\n",
       "      <td>Payment</td>\n",
       "      <td>VISA</td>\n",
       "      <td>1049.43</td>\n",
       "      <td>35.68</td>\n",
       "      <td>20.99</td>\n",
       "    </tr>\n",
       "    <tr>\n",
       "      <th>5</th>\n",
       "      <td>207342</td>\n",
       "      <td>1/3/2022</td>\n",
       "      <td>Payment</td>\n",
       "      <td>VISA</td>\n",
       "      <td>450.57</td>\n",
       "      <td>15.32</td>\n",
       "      <td>9.01</td>\n",
       "    </tr>\n",
       "    <tr>\n",
       "      <th>6</th>\n",
       "      <td>207346</td>\n",
       "      <td>1/3/2022</td>\n",
       "      <td>Payment</td>\n",
       "      <td>MASTER CAR</td>\n",
       "      <td>45.00</td>\n",
       "      <td>1.53</td>\n",
       "      <td>0.90</td>\n",
       "    </tr>\n",
       "    <tr>\n",
       "      <th>8</th>\n",
       "      <td>207345</td>\n",
       "      <td>1/3/2022</td>\n",
       "      <td>Payment</td>\n",
       "      <td>VISA</td>\n",
       "      <td>184.95</td>\n",
       "      <td>6.29</td>\n",
       "      <td>3.70</td>\n",
       "    </tr>\n",
       "    <tr>\n",
       "      <th>9</th>\n",
       "      <td>207319</td>\n",
       "      <td>1/3/2022</td>\n",
       "      <td>Payment</td>\n",
       "      <td>MASTER CAR</td>\n",
       "      <td>60.03</td>\n",
       "      <td>2.04</td>\n",
       "      <td>1.20</td>\n",
       "    </tr>\n",
       "  </tbody>\n",
       "</table>\n",
       "</div>"
      ],
      "text/plain": [
       "   Transaction ID Transaction Date Transaction Type PmtMethodId   Amount  \\\n",
       "4          207341         1/3/2022          Payment        VISA  1049.43   \n",
       "5          207342         1/3/2022          Payment        VISA   450.57   \n",
       "6          207346         1/3/2022          Payment  MASTER CAR    45.00   \n",
       "8          207345         1/3/2022          Payment        VISA   184.95   \n",
       "9          207319         1/3/2022          Payment  MASTER CAR    60.03   \n",
       "\n",
       "   Old Processing Fee  New Processing Fee  \n",
       "4               35.68               20.99  \n",
       "5               15.32                9.01  \n",
       "6                1.53                0.90  \n",
       "8                6.29                3.70  \n",
       "9                2.04                1.20  "
      ]
     },
     "execution_count": 7,
     "metadata": {},
     "output_type": "execute_result"
    }
   ],
   "source": [
    "#viewing result\n",
    "ar_history_2022_card.head()"
   ]
  },
  {
   "cell_type": "markdown",
   "id": "1f23f0e9-fad4-48e8-8d66-7d97b1e92fdd",
   "metadata": {},
   "source": [
    "### **The old card company only had a processing fee. So for the total, just need to add those up. The new card company has the processing fee + 99 + 20 / month.**"
   ]
  },
  {
   "cell_type": "code",
   "execution_count": 8,
   "id": "6820d076-cb83-453a-95b6-083ea53bb2fe",
   "metadata": {},
   "outputs": [],
   "source": [
    "#looking at total for old card company\n",
    "old_card_fee_total = ar_history_2022_card[\"Old Processing Fee\"].sum()"
   ]
  },
  {
   "cell_type": "code",
   "execution_count": 9,
   "id": "a8305aea-19dd-4ceb-9167-410bdb131f87",
   "metadata": {},
   "outputs": [],
   "source": [
    "#Looking at total for new card company. the flat amount to add is 99 + (20 * 12)\n",
    "additional_fees = 99 + (20 * 12)\n",
    "new_card_fee_total = ar_history_2022_card[\"New Processing Fee\"].sum() + additional_fees"
   ]
  },
  {
   "cell_type": "code",
   "execution_count": 10,
   "id": "4e2facf8-5491-4e2a-a941-a715d4a8bf4e",
   "metadata": {},
   "outputs": [
    {
     "name": "stdout",
     "output_type": "stream",
     "text": [
      "The Old Card Company total for fees in 2022 was 49773.34\n",
      "The New Card Company total for fees in 2022 was 29617.53\n"
     ]
    }
   ],
   "source": [
    "print(\"The Old Card Company total for fees in 2022 was \" + str(old_card_fee_total))\n",
    "print(\"The New Card Company total for fees in 2022 was \" + str(new_card_fee_total))"
   ]
  },
  {
   "cell_type": "code",
   "execution_count": 11,
   "id": "69d89a4f-c175-4a60-8aaf-4eb72a1f6308",
   "metadata": {},
   "outputs": [
    {
     "name": "stdout",
     "output_type": "stream",
     "text": [
      "The Old Card Company Total Fees were 1.68x more.\n"
     ]
    }
   ],
   "source": [
    "ratio = round(old_card_fee_total/new_card_fee_total, 2)\n",
    "print(\"The Old Card Company Total Fees were \" + str(ratio) + \"x more.\")"
   ]
  },
  {
   "cell_type": "markdown",
   "id": "945befdd-1005-4916-b89e-e05f9328fe80",
   "metadata": {},
   "source": [
    "# The Old Card Company total for fees in 2022 was about \\\\$50,000. The New Card Company Total for fees in 2022 was about \\\\$30,000. The old card company is 1.68x more expensive than the new card company."
   ]
  },
  {
   "cell_type": "code",
   "execution_count": 12,
   "id": "01d2e08a-928a-4793-9318-c643f87bcad7",
   "metadata": {},
   "outputs": [],
   "source": [
    "#saving to file, incase I want to use this information in a different program\n",
    "ar_history_2022_card.to_excel(\"AR HIstory 2022 with Card Fees.xlsx\", index = False)"
   ]
  },
  {
   "cell_type": "markdown",
   "id": "f92b2404-a762-4053-a627-36f5b7f484f4",
   "metadata": {},
   "source": [
    "### **The processing fees for each month are going to be totaled and compared.**"
   ]
  },
  {
   "cell_type": "code",
   "execution_count": 13,
   "id": "18093ac1-c291-4afe-b295-7a6c17a839b4",
   "metadata": {},
   "outputs": [],
   "source": [
    "#making transaction date a datetime object, doing this to extract months\n",
    "ar_history_2022_card[\"Transaction Date\"] = pd.to_datetime(ar_history_2022_card[\"Transaction Date\"], format = \"%m/%d/%Y\")"
   ]
  },
  {
   "cell_type": "code",
   "execution_count": 14,
   "id": "e4a63424-81c6-4295-aee5-81ab97743dbe",
   "metadata": {},
   "outputs": [
    {
     "data": {
      "text/html": [
       "<div>\n",
       "<style scoped>\n",
       "    .dataframe tbody tr th:only-of-type {\n",
       "        vertical-align: middle;\n",
       "    }\n",
       "\n",
       "    .dataframe tbody tr th {\n",
       "        vertical-align: top;\n",
       "    }\n",
       "\n",
       "    .dataframe thead th {\n",
       "        text-align: right;\n",
       "    }\n",
       "</style>\n",
       "<table border=\"1\" class=\"dataframe\">\n",
       "  <thead>\n",
       "    <tr style=\"text-align: right;\">\n",
       "      <th></th>\n",
       "      <th>Transaction ID</th>\n",
       "      <th>Transaction Type</th>\n",
       "      <th>PmtMethodId</th>\n",
       "      <th>Amount</th>\n",
       "      <th>Old Processing Fee</th>\n",
       "      <th>New Processing Fee</th>\n",
       "    </tr>\n",
       "    <tr>\n",
       "      <th>Transaction Date</th>\n",
       "      <th></th>\n",
       "      <th></th>\n",
       "      <th></th>\n",
       "      <th></th>\n",
       "      <th></th>\n",
       "      <th></th>\n",
       "    </tr>\n",
       "  </thead>\n",
       "  <tbody>\n",
       "    <tr>\n",
       "      <th>2022-01-03</th>\n",
       "      <td>207341</td>\n",
       "      <td>Payment</td>\n",
       "      <td>VISA</td>\n",
       "      <td>1049.43</td>\n",
       "      <td>35.68</td>\n",
       "      <td>20.99</td>\n",
       "    </tr>\n",
       "    <tr>\n",
       "      <th>2022-01-03</th>\n",
       "      <td>207342</td>\n",
       "      <td>Payment</td>\n",
       "      <td>VISA</td>\n",
       "      <td>450.57</td>\n",
       "      <td>15.32</td>\n",
       "      <td>9.01</td>\n",
       "    </tr>\n",
       "    <tr>\n",
       "      <th>2022-01-03</th>\n",
       "      <td>207346</td>\n",
       "      <td>Payment</td>\n",
       "      <td>MASTER CAR</td>\n",
       "      <td>45.00</td>\n",
       "      <td>1.53</td>\n",
       "      <td>0.90</td>\n",
       "    </tr>\n",
       "    <tr>\n",
       "      <th>2022-01-03</th>\n",
       "      <td>207345</td>\n",
       "      <td>Payment</td>\n",
       "      <td>VISA</td>\n",
       "      <td>184.95</td>\n",
       "      <td>6.29</td>\n",
       "      <td>3.70</td>\n",
       "    </tr>\n",
       "    <tr>\n",
       "      <th>2022-01-03</th>\n",
       "      <td>207319</td>\n",
       "      <td>Payment</td>\n",
       "      <td>MASTER CAR</td>\n",
       "      <td>60.03</td>\n",
       "      <td>2.04</td>\n",
       "      <td>1.20</td>\n",
       "    </tr>\n",
       "    <tr>\n",
       "      <th>...</th>\n",
       "      <td>...</td>\n",
       "      <td>...</td>\n",
       "      <td>...</td>\n",
       "      <td>...</td>\n",
       "      <td>...</td>\n",
       "      <td>...</td>\n",
       "    </tr>\n",
       "    <tr>\n",
       "      <th>2022-12-30</th>\n",
       "      <td>218304</td>\n",
       "      <td>Payment</td>\n",
       "      <td>VISA</td>\n",
       "      <td>183.44</td>\n",
       "      <td>6.24</td>\n",
       "      <td>3.67</td>\n",
       "    </tr>\n",
       "    <tr>\n",
       "      <th>2022-12-30</th>\n",
       "      <td>218310</td>\n",
       "      <td>Payment</td>\n",
       "      <td>VISA</td>\n",
       "      <td>389.19</td>\n",
       "      <td>13.23</td>\n",
       "      <td>7.78</td>\n",
       "    </tr>\n",
       "    <tr>\n",
       "      <th>2022-12-30</th>\n",
       "      <td>218327</td>\n",
       "      <td>Payment</td>\n",
       "      <td>VISA</td>\n",
       "      <td>27.90</td>\n",
       "      <td>0.95</td>\n",
       "      <td>0.56</td>\n",
       "    </tr>\n",
       "    <tr>\n",
       "      <th>2022-12-30</th>\n",
       "      <td>218324</td>\n",
       "      <td>Payment</td>\n",
       "      <td>AM EX</td>\n",
       "      <td>2552.95</td>\n",
       "      <td>86.80</td>\n",
       "      <td>51.06</td>\n",
       "    </tr>\n",
       "    <tr>\n",
       "      <th>2022-12-30</th>\n",
       "      <td>218311</td>\n",
       "      <td>Payment</td>\n",
       "      <td>VISA</td>\n",
       "      <td>392.50</td>\n",
       "      <td>13.34</td>\n",
       "      <td>7.85</td>\n",
       "    </tr>\n",
       "  </tbody>\n",
       "</table>\n",
       "<p>3210 rows × 6 columns</p>\n",
       "</div>"
      ],
      "text/plain": [
       "                  Transaction ID Transaction Type PmtMethodId   Amount  \\\n",
       "Transaction Date                                                         \n",
       "2022-01-03                207341          Payment        VISA  1049.43   \n",
       "2022-01-03                207342          Payment        VISA   450.57   \n",
       "2022-01-03                207346          Payment  MASTER CAR    45.00   \n",
       "2022-01-03                207345          Payment        VISA   184.95   \n",
       "2022-01-03                207319          Payment  MASTER CAR    60.03   \n",
       "...                          ...              ...         ...      ...   \n",
       "2022-12-30                218304          Payment        VISA   183.44   \n",
       "2022-12-30                218310          Payment        VISA   389.19   \n",
       "2022-12-30                218327          Payment        VISA    27.90   \n",
       "2022-12-30                218324          Payment       AM EX  2552.95   \n",
       "2022-12-30                218311          Payment        VISA   392.50   \n",
       "\n",
       "                  Old Processing Fee  New Processing Fee  \n",
       "Transaction Date                                          \n",
       "2022-01-03                     35.68               20.99  \n",
       "2022-01-03                     15.32                9.01  \n",
       "2022-01-03                      1.53                0.90  \n",
       "2022-01-03                      6.29                3.70  \n",
       "2022-01-03                      2.04                1.20  \n",
       "...                              ...                 ...  \n",
       "2022-12-30                      6.24                3.67  \n",
       "2022-12-30                     13.23                7.78  \n",
       "2022-12-30                      0.95                0.56  \n",
       "2022-12-30                     86.80               51.06  \n",
       "2022-12-30                     13.34                7.85  \n",
       "\n",
       "[3210 rows x 6 columns]"
      ]
     },
     "execution_count": 14,
     "metadata": {},
     "output_type": "execute_result"
    }
   ],
   "source": [
    "# making the transaction date the index\n",
    "ar_history_2022_card.set_index(\"Transaction Date\", inplace = True)\n",
    "ar_history_2022_card"
   ]
  },
  {
   "cell_type": "code",
   "execution_count": 15,
   "id": "acbfc764-2e5d-4aef-a9ec-a735ed255948",
   "metadata": {},
   "outputs": [
    {
     "data": {
      "text/html": [
       "<div>\n",
       "<style scoped>\n",
       "    .dataframe tbody tr th:only-of-type {\n",
       "        vertical-align: middle;\n",
       "    }\n",
       "\n",
       "    .dataframe tbody tr th {\n",
       "        vertical-align: top;\n",
       "    }\n",
       "\n",
       "    .dataframe thead th {\n",
       "        text-align: right;\n",
       "    }\n",
       "</style>\n",
       "<table border=\"1\" class=\"dataframe\">\n",
       "  <thead>\n",
       "    <tr style=\"text-align: right;\">\n",
       "      <th></th>\n",
       "      <th>Old Processing Fee</th>\n",
       "      <th>New Processing Fee</th>\n",
       "    </tr>\n",
       "    <tr>\n",
       "      <th>Transaction Date</th>\n",
       "      <th></th>\n",
       "      <th></th>\n",
       "    </tr>\n",
       "  </thead>\n",
       "  <tbody>\n",
       "    <tr>\n",
       "      <th>1</th>\n",
       "      <td>4400.63</td>\n",
       "      <td>2588.60</td>\n",
       "    </tr>\n",
       "    <tr>\n",
       "      <th>2</th>\n",
       "      <td>4557.12</td>\n",
       "      <td>2680.71</td>\n",
       "    </tr>\n",
       "    <tr>\n",
       "      <th>3</th>\n",
       "      <td>6686.41</td>\n",
       "      <td>3933.20</td>\n",
       "    </tr>\n",
       "    <tr>\n",
       "      <th>4</th>\n",
       "      <td>5192.02</td>\n",
       "      <td>3054.13</td>\n",
       "    </tr>\n",
       "    <tr>\n",
       "      <th>5</th>\n",
       "      <td>4457.44</td>\n",
       "      <td>2622.00</td>\n",
       "    </tr>\n",
       "    <tr>\n",
       "      <th>6</th>\n",
       "      <td>3635.04</td>\n",
       "      <td>2138.22</td>\n",
       "    </tr>\n",
       "    <tr>\n",
       "      <th>7</th>\n",
       "      <td>3509.05</td>\n",
       "      <td>2064.18</td>\n",
       "    </tr>\n",
       "    <tr>\n",
       "      <th>8</th>\n",
       "      <td>4231.61</td>\n",
       "      <td>2489.18</td>\n",
       "    </tr>\n",
       "    <tr>\n",
       "      <th>9</th>\n",
       "      <td>3125.15</td>\n",
       "      <td>1838.31</td>\n",
       "    </tr>\n",
       "    <tr>\n",
       "      <th>10</th>\n",
       "      <td>3486.46</td>\n",
       "      <td>2050.86</td>\n",
       "    </tr>\n",
       "    <tr>\n",
       "      <th>11</th>\n",
       "      <td>2564.18</td>\n",
       "      <td>1508.39</td>\n",
       "    </tr>\n",
       "    <tr>\n",
       "      <th>12</th>\n",
       "      <td>3928.23</td>\n",
       "      <td>2310.75</td>\n",
       "    </tr>\n",
       "  </tbody>\n",
       "</table>\n",
       "</div>"
      ],
      "text/plain": [
       "                  Old Processing Fee  New Processing Fee\n",
       "Transaction Date                                        \n",
       "1                            4400.63             2588.60\n",
       "2                            4557.12             2680.71\n",
       "3                            6686.41             3933.20\n",
       "4                            5192.02             3054.13\n",
       "5                            4457.44             2622.00\n",
       "6                            3635.04             2138.22\n",
       "7                            3509.05             2064.18\n",
       "8                            4231.61             2489.18\n",
       "9                            3125.15             1838.31\n",
       "10                           3486.46             2050.86\n",
       "11                           2564.18             1508.39\n",
       "12                           3928.23             2310.75"
      ]
     },
     "execution_count": 15,
     "metadata": {},
     "output_type": "execute_result"
    }
   ],
   "source": [
    "# grouping by month and looking at totals, will need to add 20 for each month on the new processing and also add 99/12 for the annual fee\n",
    "monthly_totals = ar_history_2022_card.groupby(ar_history_2022_card.index.month).agg({\"Old Processing Fee\" : sum, \"New Processing Fee\" : sum})\n",
    "monthly_totals"
   ]
  },
  {
   "cell_type": "code",
   "execution_count": 16,
   "id": "ded88115-0492-4b6d-a644-01d72edd8a39",
   "metadata": {},
   "outputs": [],
   "source": [
    "#adding 20 + 99/12 to new processing fee\n",
    "monthly_totals[\"New Processing Fee\"] = monthly_totals[\"New Processing Fee\"] + 20 + round((99/12), 2)"
   ]
  },
  {
   "cell_type": "markdown",
   "id": "451a64a0-bb92-40e9-83a1-cd0f7e32fe5b",
   "metadata": {},
   "source": [
    "## **Viewing monthly totals**"
   ]
  },
  {
   "cell_type": "code",
   "execution_count": 17,
   "id": "b75b1f96-7416-4251-89da-76b86c321384",
   "metadata": {},
   "outputs": [
    {
     "data": {
      "text/html": [
       "<div>\n",
       "<style scoped>\n",
       "    .dataframe tbody tr th:only-of-type {\n",
       "        vertical-align: middle;\n",
       "    }\n",
       "\n",
       "    .dataframe tbody tr th {\n",
       "        vertical-align: top;\n",
       "    }\n",
       "\n",
       "    .dataframe thead th {\n",
       "        text-align: right;\n",
       "    }\n",
       "</style>\n",
       "<table border=\"1\" class=\"dataframe\">\n",
       "  <thead>\n",
       "    <tr style=\"text-align: right;\">\n",
       "      <th></th>\n",
       "      <th>Old Processing Fee</th>\n",
       "      <th>New Processing Fee</th>\n",
       "    </tr>\n",
       "    <tr>\n",
       "      <th>Transaction Date</th>\n",
       "      <th></th>\n",
       "      <th></th>\n",
       "    </tr>\n",
       "  </thead>\n",
       "  <tbody>\n",
       "    <tr>\n",
       "      <th>1</th>\n",
       "      <td>4400.63</td>\n",
       "      <td>2616.85</td>\n",
       "    </tr>\n",
       "    <tr>\n",
       "      <th>2</th>\n",
       "      <td>4557.12</td>\n",
       "      <td>2708.96</td>\n",
       "    </tr>\n",
       "    <tr>\n",
       "      <th>3</th>\n",
       "      <td>6686.41</td>\n",
       "      <td>3961.45</td>\n",
       "    </tr>\n",
       "    <tr>\n",
       "      <th>4</th>\n",
       "      <td>5192.02</td>\n",
       "      <td>3082.38</td>\n",
       "    </tr>\n",
       "    <tr>\n",
       "      <th>5</th>\n",
       "      <td>4457.44</td>\n",
       "      <td>2650.25</td>\n",
       "    </tr>\n",
       "    <tr>\n",
       "      <th>6</th>\n",
       "      <td>3635.04</td>\n",
       "      <td>2166.47</td>\n",
       "    </tr>\n",
       "    <tr>\n",
       "      <th>7</th>\n",
       "      <td>3509.05</td>\n",
       "      <td>2092.43</td>\n",
       "    </tr>\n",
       "    <tr>\n",
       "      <th>8</th>\n",
       "      <td>4231.61</td>\n",
       "      <td>2517.43</td>\n",
       "    </tr>\n",
       "    <tr>\n",
       "      <th>9</th>\n",
       "      <td>3125.15</td>\n",
       "      <td>1866.56</td>\n",
       "    </tr>\n",
       "    <tr>\n",
       "      <th>10</th>\n",
       "      <td>3486.46</td>\n",
       "      <td>2079.11</td>\n",
       "    </tr>\n",
       "    <tr>\n",
       "      <th>11</th>\n",
       "      <td>2564.18</td>\n",
       "      <td>1536.64</td>\n",
       "    </tr>\n",
       "    <tr>\n",
       "      <th>12</th>\n",
       "      <td>3928.23</td>\n",
       "      <td>2339.00</td>\n",
       "    </tr>\n",
       "  </tbody>\n",
       "</table>\n",
       "</div>"
      ],
      "text/plain": [
       "                  Old Processing Fee  New Processing Fee\n",
       "Transaction Date                                        \n",
       "1                            4400.63             2616.85\n",
       "2                            4557.12             2708.96\n",
       "3                            6686.41             3961.45\n",
       "4                            5192.02             3082.38\n",
       "5                            4457.44             2650.25\n",
       "6                            3635.04             2166.47\n",
       "7                            3509.05             2092.43\n",
       "8                            4231.61             2517.43\n",
       "9                            3125.15             1866.56\n",
       "10                           3486.46             2079.11\n",
       "11                           2564.18             1536.64\n",
       "12                           3928.23             2339.00"
      ]
     },
     "execution_count": 17,
     "metadata": {},
     "output_type": "execute_result"
    }
   ],
   "source": [
    "monthly_totals"
   ]
  },
  {
   "cell_type": "markdown",
   "id": "3908593a-5b07-4b94-8cd6-908f914cf867",
   "metadata": {},
   "source": [
    "## **Going to make bar graphs comparing the 2 different card companies across the months of 2022**"
   ]
  },
  {
   "cell_type": "code",
   "execution_count": 18,
   "id": "a74bdd57-d2e1-41c6-a37e-9c4672b3773a",
   "metadata": {},
   "outputs": [],
   "source": [
    "#importing needed modules\n",
    "import matplotlib.pyplot as plt\n",
    "import matplotlib.style as style\n",
    "import seaborn as sns\n",
    "%matplotlib inline\n",
    "pd.set_option(\"display.max_columns\", 50)\n",
    "pd.options.mode.chained_assignment = None  # default='warn'"
   ]
  },
  {
   "cell_type": "code",
   "execution_count": 19,
   "id": "b61ba40c-cf24-448c-b8b7-c8b49ed422f1",
   "metadata": {},
   "outputs": [
    {
     "data": {
      "image/png": "[encoded data removed]",
      "text/plain": [
       "<Figure size 1280x1120 with 1 Axes>"
      ]
     },
     "metadata": {},
     "output_type": "display_data"
    }
   ],
   "source": [
    "#plot for totals\n",
    "\n",
    "style.use('classic')\n",
    "months = ['January', 'February', 'March', 'April', 'May', 'June', 'July', 'August', 'September', 'October', 'November', 'December']\n",
    "monthly_totals['Month_names'] = months\n",
    "monthly_totals.plot(kind= 'bar', x = 'Month_names', y = ['Old Processing Fee', \"New Processing Fee\"], figsize = (16,14))\n",
    "\n",
    "for x,y in zip(np.arange(0,12), monthly_totals[\"Old Processing Fee\"]):\n",
    "    plt.text(x = x , y = y + 100 , s = \"$\" + str(int(y)))\n",
    "    \n",
    "for x,y in zip(np.arange(0,12), monthly_totals[\"New Processing Fee\"]):\n",
    "    plt.text( x = x, y = y + 100, s = \"$\" + str(int(y)))\n",
    "\n",
    "plt.xlabel('Months')\n",
    "plt.ylabel('Price in $')\n",
    "plt.title('Processing Fees Per Month')\n",
    "plt.savefig(\"Processing Fees Per Month\")"
   ]
  },
  {
   "cell_type": "markdown",
   "id": "0a3082e3-f603-48f2-a4ec-af173d94d85d",
   "metadata": {},
   "source": [
    "## **Making a bar graph for the difference between the old card company and new card company monthly in 2022**"
   ]
  },
  {
   "cell_type": "code",
   "execution_count": 20,
   "id": "02370c3f-fe90-4a8f-9adc-4fcea9f01a1b",
   "metadata": {},
   "outputs": [
    {
     "data": {
      "text/html": [
       "<div>\n",
       "<style scoped>\n",
       "    .dataframe tbody tr th:only-of-type {\n",
       "        vertical-align: middle;\n",
       "    }\n",
       "\n",
       "    .dataframe tbody tr th {\n",
       "        vertical-align: top;\n",
       "    }\n",
       "\n",
       "    .dataframe thead th {\n",
       "        text-align: right;\n",
       "    }\n",
       "</style>\n",
       "<table border=\"1\" class=\"dataframe\">\n",
       "  <thead>\n",
       "    <tr style=\"text-align: right;\">\n",
       "      <th></th>\n",
       "      <th>Old Processing Fee</th>\n",
       "      <th>New Processing Fee</th>\n",
       "      <th>Month_names</th>\n",
       "      <th>Difference between new and old</th>\n",
       "    </tr>\n",
       "    <tr>\n",
       "      <th>Transaction Date</th>\n",
       "      <th></th>\n",
       "      <th></th>\n",
       "      <th></th>\n",
       "      <th></th>\n",
       "    </tr>\n",
       "  </thead>\n",
       "  <tbody>\n",
       "    <tr>\n",
       "      <th>1</th>\n",
       "      <td>4400.63</td>\n",
       "      <td>2616.85</td>\n",
       "      <td>January</td>\n",
       "      <td>1783.78</td>\n",
       "    </tr>\n",
       "    <tr>\n",
       "      <th>2</th>\n",
       "      <td>4557.12</td>\n",
       "      <td>2708.96</td>\n",
       "      <td>February</td>\n",
       "      <td>1848.16</td>\n",
       "    </tr>\n",
       "    <tr>\n",
       "      <th>3</th>\n",
       "      <td>6686.41</td>\n",
       "      <td>3961.45</td>\n",
       "      <td>March</td>\n",
       "      <td>2724.96</td>\n",
       "    </tr>\n",
       "    <tr>\n",
       "      <th>4</th>\n",
       "      <td>5192.02</td>\n",
       "      <td>3082.38</td>\n",
       "      <td>April</td>\n",
       "      <td>2109.64</td>\n",
       "    </tr>\n",
       "    <tr>\n",
       "      <th>5</th>\n",
       "      <td>4457.44</td>\n",
       "      <td>2650.25</td>\n",
       "      <td>May</td>\n",
       "      <td>1807.19</td>\n",
       "    </tr>\n",
       "    <tr>\n",
       "      <th>6</th>\n",
       "      <td>3635.04</td>\n",
       "      <td>2166.47</td>\n",
       "      <td>June</td>\n",
       "      <td>1468.57</td>\n",
       "    </tr>\n",
       "    <tr>\n",
       "      <th>7</th>\n",
       "      <td>3509.05</td>\n",
       "      <td>2092.43</td>\n",
       "      <td>July</td>\n",
       "      <td>1416.62</td>\n",
       "    </tr>\n",
       "    <tr>\n",
       "      <th>8</th>\n",
       "      <td>4231.61</td>\n",
       "      <td>2517.43</td>\n",
       "      <td>August</td>\n",
       "      <td>1714.18</td>\n",
       "    </tr>\n",
       "    <tr>\n",
       "      <th>9</th>\n",
       "      <td>3125.15</td>\n",
       "      <td>1866.56</td>\n",
       "      <td>September</td>\n",
       "      <td>1258.59</td>\n",
       "    </tr>\n",
       "    <tr>\n",
       "      <th>10</th>\n",
       "      <td>3486.46</td>\n",
       "      <td>2079.11</td>\n",
       "      <td>October</td>\n",
       "      <td>1407.35</td>\n",
       "    </tr>\n",
       "    <tr>\n",
       "      <th>11</th>\n",
       "      <td>2564.18</td>\n",
       "      <td>1536.64</td>\n",
       "      <td>November</td>\n",
       "      <td>1027.54</td>\n",
       "    </tr>\n",
       "    <tr>\n",
       "      <th>12</th>\n",
       "      <td>3928.23</td>\n",
       "      <td>2339.00</td>\n",
       "      <td>December</td>\n",
       "      <td>1589.23</td>\n",
       "    </tr>\n",
       "  </tbody>\n",
       "</table>\n",
       "</div>"
      ],
      "text/plain": [
       "                  Old Processing Fee  New Processing Fee Month_names  \\\n",
       "Transaction Date                                                       \n",
       "1                            4400.63             2616.85     January   \n",
       "2                            4557.12             2708.96    February   \n",
       "3                            6686.41             3961.45       March   \n",
       "4                            5192.02             3082.38       April   \n",
       "5                            4457.44             2650.25         May   \n",
       "6                            3635.04             2166.47        June   \n",
       "7                            3509.05             2092.43        July   \n",
       "8                            4231.61             2517.43      August   \n",
       "9                            3125.15             1866.56   September   \n",
       "10                           3486.46             2079.11     October   \n",
       "11                           2564.18             1536.64    November   \n",
       "12                           3928.23             2339.00    December   \n",
       "\n",
       "                  Difference between new and old  \n",
       "Transaction Date                                  \n",
       "1                                        1783.78  \n",
       "2                                        1848.16  \n",
       "3                                        2724.96  \n",
       "4                                        2109.64  \n",
       "5                                        1807.19  \n",
       "6                                        1468.57  \n",
       "7                                        1416.62  \n",
       "8                                        1714.18  \n",
       "9                                        1258.59  \n",
       "10                                       1407.35  \n",
       "11                                       1027.54  \n",
       "12                                       1589.23  "
      ]
     },
     "execution_count": 20,
     "metadata": {},
     "output_type": "execute_result"
    }
   ],
   "source": [
    "#plot for differences\n",
    "monthly_totals[\"Difference between new and old\"] = abs(monthly_totals[\"New Processing Fee\"] - monthly_totals[\"Old Processing Fee\"])\n",
    "monthly_totals"
   ]
  },
  {
   "cell_type": "code",
   "execution_count": 21,
   "id": "bcfff85a-bbc5-444d-8bb1-34eee940ae2a",
   "metadata": {},
   "outputs": [
    {
     "data": {
      "image/png": "[encoded data removed]",
      "text/plain": [
       "<Figure size 1280x1120 with 1 Axes>"
      ]
     },
     "metadata": {},
     "output_type": "display_data"
    }
   ],
   "source": [
    "style.use('classic')\n",
    "monthly_totals.plot(kind= 'bar', x = 'Month_names', y = [\"Difference between new and old\"], figsize = (16,14), color = 'g')\n",
    "\n",
    "for x,y in zip(np.arange(0,12), monthly_totals[\"Difference between new and old\"]):\n",
    "    plt.text(x = x , y = y + 100 , s = \"$\" + str(int(y)))\n",
    "                                               \n",
    "plt.xlabel('Months')\n",
    "plt.ylabel('Price in $')\n",
    "plt.title('Theoretical 2022 Monthly Savings from New Card Processing Company')\n",
    "plt.savefig(\"Theoretical 2022 Monthly Savings from New Card Processing Company\")"
   ]
  },
  {
   "cell_type": "markdown",
   "id": "0ceffbe5-0148-4c82-94e0-d3528629b4a8",
   "metadata": {},
   "source": [
    "\n"
   ]
  },
  {
   "cell_type": "code",
   "execution_count": 24,
   "id": "df150305-ae3d-49d8-af4f-0352d7cdbae3",
   "metadata": {},
   "outputs": [
    {
     "name": "stdout",
     "output_type": "stream",
     "text": [
      "20156 2\n",
      "1679.65\n"
     ]
    }
   ],
   "source": [
    "#looking at the sum of the differences each month\n",
    "print(round(monthly_totals[\"Difference between new and old\"].sum()), 2)\n",
    "\n",
    "#looking at the average amount saved per month\n",
    "print(round(monthly_totals[\"Difference between new and old\"].mean(), 2))"
   ]
  },
  {
   "cell_type": "markdown",
   "id": "9e7468be-becc-4965-90e8-15d34f6e963e",
   "metadata": {},
   "source": [
    "# **Summary**"
   ]
  },
  {
   "cell_type": "markdown",
   "id": "55fd12af-1a69-4a4d-b290-18c36cf0d879",
   "metadata": {},
   "source": [
    "## **The total theoretical savings of 2022 could have been \\\\$20,000 if the new card processing company was being used. The old card processing company was 1.68x more expensive than the new card company. The new card processing company gives an average savings per month of \\\\$1,600. Overall, the new card company processing fees are cheaper than the old card company processing fees.**"
   ]
  }
 ],
 "metadata": {
  "kernelspec": {
   "display_name": "Python 3 (ipykernel)",
   "language": "python",
   "name": "python3"
  },
  "language_info": {
   "codemirror_mode": {
    "name": "ipython",
    "version": 3
   },
   "file_extension": ".py",
   "mimetype": "text/x-python",
   "name": "python",
   "nbconvert_exporter": "python",
   "pygments_lexer": "ipython3",
   "version": "3.9.7"
  }
 },
 "nbformat": 4,
 "nbformat_minor": 5
}
